{
    "cells": [
        {
            "cell_type": "markdown",
            "metadata": {},
            "source": "# Description\nThis is first jupyter NB work. I am reading a csv file with student details"
        },
        {
            "cell_type": "code",
            "execution_count": 2,
            "metadata": {},
            "outputs": [
                {
                    "data": {
                        "text/html": "<div>\n<style scoped>\n    .dataframe tbody tr th:only-of-type {\n        vertical-align: middle;\n    }\n\n    .dataframe tbody tr th {\n        vertical-align: top;\n    }\n\n    .dataframe thead th {\n        text-align: right;\n    }\n</style>\n<table border=\"1\" class=\"dataframe\">\n  <thead>\n    <tr style=\"text-align: right;\">\n      <th></th>\n      <th>SNO</th>\n      <th>FNAME</th>\n      <th>LNAME</th>\n      <th>CLASS</th>\n      <th>MARKS</th>\n    </tr>\n  </thead>\n  <tbody>\n    <tr>\n      <th>0</th>\n      <td>101</td>\n      <td>Joe</td>\n      <td>Martin</td>\n      <td>5K</td>\n      <td>25.0</td>\n    </tr>\n    <tr>\n      <th>1</th>\n      <td>102</td>\n      <td>James</td>\n      <td>Henz</td>\n      <td>5K</td>\n      <td>30.5</td>\n    </tr>\n    <tr>\n      <th>2</th>\n      <td>103</td>\n      <td>Garry</td>\n      <td>King</td>\n      <td>5K</td>\n      <td>21.5</td>\n    </tr>\n    <tr>\n      <th>3</th>\n      <td>104</td>\n      <td>Terry</td>\n      <td>Jose</td>\n      <td>5K</td>\n      <td>20.5</td>\n    </tr>\n    <tr>\n      <th>4</th>\n      <td>105</td>\n      <td>Joya</td>\n      <td>Sam</td>\n      <td>5K</td>\n      <td>21.5</td>\n    </tr>\n  </tbody>\n</table>\n</div>",
                        "text/plain": "   SNO  FNAME   LNAME CLASS  MARKS\n0  101    Joe  Martin    5K   25.0\n1  102  James    Henz    5K   30.5\n2  103  Garry    King    5K   21.5\n3  104  Terry    Jose    5K   20.5\n4  105   Joya     Sam    5K   21.5"
                    },
                    "execution_count": 2,
                    "metadata": {},
                    "output_type": "execute_result"
                }
            ],
            "source": "# The code was removed by Watson Studio for sharing."
        },
        {
            "cell_type": "code",
            "execution_count": null,
            "metadata": {},
            "outputs": [],
            "source": ""
        },
        {
            "cell_type": "code",
            "execution_count": null,
            "metadata": {},
            "outputs": [],
            "source": ""
        }
    ],
    "metadata": {
        "kernelspec": {
            "display_name": "Python 3.6",
            "language": "python",
            "name": "python3"
        },
        "language_info": {
            "codemirror_mode": {
                "name": "ipython",
                "version": 3
            },
            "file_extension": ".py",
            "mimetype": "text/x-python",
            "name": "python",
            "nbconvert_exporter": "python",
            "pygments_lexer": "ipython3",
            "version": "3.6.9"
        }
    },
    "nbformat": 4,
    "nbformat_minor": 1
}